{
  "nbformat": 4,
  "nbformat_minor": 0,
  "metadata": {
    "colab": {
      "provenance": []
    },
    "kernelspec": {
      "name": "python3",
      "display_name": "Python 3"
    },
    "language_info": {
      "name": "python"
    }
  },
  "cells": [
    {
      "cell_type": "markdown",
      "source": [
        "# **First Work with py**\n",
        "\n",
        "## ***Name: Liel Busi***\n",
        "\n",
        "\n",
        "\n",
        "---\n",
        "\n",
        "\n",
        "\n",
        "![image.png](data:image/png;base64,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)"
      ],
      "metadata": {
        "id": "lsRoSTK2pz9y"
      }
    },
    {
      "cell_type": "markdown",
      "source": [
        "# **Basic method - print**\n",
        "\n",
        "---\n",
        "\n"
      ],
      "metadata": {
        "id": "6iiPnxOaqR3G"
      }
    },
    {
      "cell_type": "code",
      "execution_count": 1,
      "metadata": {
        "colab": {
          "base_uri": "https://localhost:8080/"
        },
        "id": "gGNQa1SLgsil",
        "outputId": "fcb3292a-8916-4950-9312-7a6e4662a830"
      },
      "outputs": [
        {
          "output_type": "stream",
          "name": "stdout",
          "text": [
            "hello world!\n"
          ]
        }
      ],
      "source": [
        "print(\"hello world!\")"
      ]
    },
    {
      "cell_type": "markdown",
      "source": [
        "# **Question 2**\n",
        "\n",
        "---\n",
        "\n"
      ],
      "metadata": {
        "id": "OzLD7yTOqWIn"
      }
    },
    {
      "cell_type": "code",
      "source": [
        "n1 = int(input('Enter a number: '))\n",
        "n2 = int(input('Enter another number: '))\n",
        "\n",
        "print(\"sum: \", (n1 + n2))\n",
        "print(\"int div\", (n1//n2))\n",
        "print(\"real div\", (n1/n2))\n",
        "print(n1 > n2)\n",
        "print(n1 %2 == 0 and n2 % 2 == 0)\n",
        "print(\"n1 type: \", (type(n1)), \", n2 type: \", type(n2))"
      ],
      "metadata": {
        "colab": {
          "base_uri": "https://localhost:8080/"
        },
        "id": "zitwYrRnhLAu",
        "outputId": "ebfac489-3845-4b80-89c7-eaa69bd95b4a"
      },
      "execution_count": 10,
      "outputs": [
        {
          "output_type": "stream",
          "name": "stdout",
          "text": [
            "Enter a number: 11\n",
            "Enter another number: 51\n",
            "sum:  62\n",
            "int div 0\n",
            "real div 0.21568627450980393\n",
            "False\n",
            "False\n",
            "n1 type:  <class 'int'> , n2 type:  <class 'int'>\n"
          ]
        }
      ]
    },
    {
      "cell_type": "markdown",
      "source": [
        "# **Question 3**\n",
        "\n",
        "---\n",
        "\n",
        "* 8 byte = 64 bit\n",
        "* max number = 1.8446744e+19\n",
        "* lets show bigger number (int)"
      ],
      "metadata": {
        "id": "NpskEd4iqpg4"
      }
    },
    {
      "cell_type": "code",
      "source": [
        "n3 = int(2e+19)\n",
        "print(n3, type(n3))"
      ],
      "metadata": {
        "colab": {
          "base_uri": "https://localhost:8080/"
        },
        "id": "eCX6KJSSiv2x",
        "outputId": "8843dd01-9b01-4b62-ae4d-87c77cc69b51"
      },
      "execution_count": 43,
      "outputs": [
        {
          "output_type": "stream",
          "name": "stdout",
          "text": [
            "20000000000000000000 <class 'int'>\n"
          ]
        }
      ]
    },
    {
      "cell_type": "markdown",
      "source": [
        "# **Question 4**\n",
        "\n",
        "---\n",
        "\n",
        "* The thing we need to change from question 1 is the casting from int to float.\n"
      ],
      "metadata": {
        "id": "2LAGE6eYrDNI"
      }
    },
    {
      "cell_type": "code",
      "source": [
        "n1 = float(input('Enter a number: '))\n",
        "n2 = float(input('Enter another number: '))\n",
        "\n",
        "print(\"sum: \", (n1 + n2))\n",
        "print(\"int div\", round(n1//n2)) # to get the devide solution as int we use round, another method in python\n",
        "print(\"real div\", (n1/n2))\n",
        "print(n1 > n2)\n",
        "print(n1 %2 == 0 and n2 % 2 == 0)\n",
        "print(\"n1 type: \", (type(n1)), \", n2 type: \", type(n2))"
      ],
      "metadata": {
        "colab": {
          "base_uri": "https://localhost:8080/"
        },
        "id": "hfuXZKtEkD5_",
        "outputId": "bc6637f9-fff6-4d9a-dff3-160369f032d6"
      },
      "execution_count": 17,
      "outputs": [
        {
          "output_type": "stream",
          "name": "stdout",
          "text": [
            "Enter a number: 154.9\n",
            "Enter another number: 54\n",
            "sum:  208.9\n",
            "int div 2\n",
            "real div 2.8685185185185187\n",
            "True\n",
            "False\n",
            "n1 type:  <class 'float'> , n2 type:  <class 'float'>\n"
          ]
        }
      ]
    },
    {
      "cell_type": "markdown",
      "source": [
        "# **Question 5**\n",
        "\n",
        "---\n",
        "\n",
        "* just print a very large number\n"
      ],
      "metadata": {
        "id": "etcvevMorcSI"
      }
    },
    {
      "cell_type": "code",
      "source": [
        "n5 = 1253125125312531253.2153\n",
        "print(n5)"
      ],
      "metadata": {
        "colab": {
          "base_uri": "https://localhost:8080/"
        },
        "id": "Qnb7oQqolY2d",
        "outputId": "968a07f0-928d-47c8-8aa1-85785a075a14"
      },
      "execution_count": 22,
      "outputs": [
        {
          "output_type": "stream",
          "name": "stdout",
          "text": [
            "1.2531251253125312e+18\n"
          ]
        }
      ]
    },
    {
      "cell_type": "markdown",
      "source": [
        "# **Question 6**\n",
        "\n",
        "---\n"
      ],
      "metadata": {
        "id": "kt6XkqKIrsyW"
      }
    },
    {
      "cell_type": "code",
      "source": [
        "n4 = 1.984564323444444444125312512531253125332535125331312523544334234524355\n",
        "print(n4)"
      ],
      "metadata": {
        "colab": {
          "base_uri": "https://localhost:8080/"
        },
        "id": "sKaSRYO3klgH",
        "outputId": "757c899b-d284-4db2-976f-0e970929ab75"
      },
      "execution_count": 21,
      "outputs": [
        {
          "output_type": "stream",
          "name": "stdout",
          "text": [
            "1.9845643234444443\n"
          ]
        }
      ]
    },
    {
      "cell_type": "markdown",
      "source": [
        "# **Question 7**\n",
        "\n",
        "---\n"
      ],
      "metadata": {
        "id": "OSxR09AHrxZm"
      }
    },
    {
      "cell_type": "code",
      "source": [
        "x1 = float(input('Enter a number: '))\n",
        "y1 = float(input('Enter another number: '))\n",
        "x2 = float(input('Enter another number: '))\n",
        "y2 = float(input('Enter another number: '))\n",
        "\n",
        "# finding the line equation\n",
        "m = (y1 - y2) / (x1 - x2)\n",
        "b = y1 - m*x1"
      ],
      "metadata": {
        "colab": {
          "base_uri": "https://localhost:8080/"
        },
        "id": "oD_HgNe7ln4G",
        "outputId": "ef4f18fc-e230-4c09-b94a-8d791f92b9bb"
      },
      "execution_count": 29,
      "outputs": [
        {
          "name": "stdout",
          "output_type": "stream",
          "text": [
            "Enter a number: 0\n",
            "Enter another number: 5\n",
            "Enter another number: 3\n",
            "Enter another number: 8\n"
          ]
        }
      ]
    },
    {
      "cell_type": "code",
      "source": [
        "# get new x,y\n",
        "x3 = float(input('Enter another number: '))\n",
        "y3 = float(input('Enter another number: '))"
      ],
      "metadata": {
        "colab": {
          "base_uri": "https://localhost:8080/"
        },
        "id": "RQpfOWSamkUU",
        "outputId": "e4a9b7c0-7164-4978-8513-7ec74745f2f9"
      },
      "execution_count": 34,
      "outputs": [
        {
          "name": "stdout",
          "output_type": "stream",
          "text": [
            "Enter another number: -1\n",
            "Enter another number: 4\n"
          ]
        }
      ]
    },
    {
      "cell_type": "code",
      "source": [
        "import math"
      ],
      "metadata": {
        "id": "TATsf2xsnigN"
      },
      "execution_count": 36,
      "outputs": []
    },
    {
      "cell_type": "code",
      "source": [
        "# function the getting line equation and another point\n",
        "# if the point on the line, the function returns true\n",
        "# else - false\n",
        "def is_on_line(m, b, x,y):\n",
        "    if(math.isclose(y, m*x + b)):\n",
        "      return True\n",
        "    return False"
      ],
      "metadata": {
        "id": "VdbW8HEKl6b1"
      },
      "execution_count": 37,
      "outputs": []
    },
    {
      "cell_type": "code",
      "source": [
        "print(is_on_line(m, b, x3, y3))"
      ],
      "metadata": {
        "colab": {
          "base_uri": "https://localhost:8080/"
        },
        "id": "-t-u-_wrmoWs",
        "outputId": "c0b6b197-b446-4e6d-ccee-6e2769f88816"
      },
      "execution_count": 38,
      "outputs": [
        {
          "output_type": "stream",
          "name": "stdout",
          "text": [
            "True\n"
          ]
        }
      ]
    },
    {
      "cell_type": "markdown",
      "source": [
        "# **Question 8**\n",
        "\n",
        "---\n",
        "\n",
        "* In this question we need to use that false = 0, true = 1."
      ],
      "metadata": {
        "id": "ZS1Enw2SsJwP"
      }
    },
    {
      "cell_type": "code",
      "source": [
        "def calculate_points(easy_completed, hard_completed):\n",
        "  return 10*easy_completed + 20*hard_completed + 5*(easy_completed and hard_completed)"
      ],
      "metadata": {
        "id": "q8NkmFxanMTM"
      },
      "execution_count": 40,
      "outputs": []
    },
    {
      "cell_type": "code",
      "source": [
        "calculate_points(True, False)"
      ],
      "metadata": {
        "colab": {
          "base_uri": "https://localhost:8080/"
        },
        "id": "fszPoV6coRHO",
        "outputId": "7170160c-37cd-43ce-ee89-a33f783090b2"
      },
      "execution_count": 41,
      "outputs": [
        {
          "output_type": "execute_result",
          "data": {
            "text/plain": [
              "10"
            ]
          },
          "metadata": {},
          "execution_count": 41
        }
      ]
    }
  ]
}