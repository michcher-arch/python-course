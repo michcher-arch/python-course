{
 "cells": [
  {
   "cell_type": "markdown",
   "metadata": {},
   "source": [
    "# תכנות מונחה עצמים (OOP) בפייתון\n",
    "\n",
    "תכנות מונחה עצמים (Object-Oriented Programming, OOP) הוא פרדיגמת תכנות המארגנת קוד סביב **אובייקטים** ולא סביב פעולות (פונקציות). בבסיס הגישה הזו עומדים שני רעיונות מרכזיים:\n",
    "\n",
    "1.  **מחלקה (Class):** תבנית או 'תוכנית' ליצירת אובייקט. היא מגדירה את התכונות (attributes) וההתנהגויות (methods) שיהיו לאובייקטים מסוג זה.\n",
    "2.  **אובייקט (Object):** מופע (instance) ספציפי של מחלקה. כל אובייקט הוא יחידה עצמאית עם ערכים משלו לתכונות שהוגדרו במחלקה."
   ]
  },
  {
   "cell_type": "markdown",
   "metadata": {},
   "source": [
    "---",
    "\n",
    "## 1. יצירת מחלקה ואובייקט\n",
    "\n",
    "נבנה מחלקה פשוטה בשם `Dog`."
   ]
  },
  {
   "cell_type": "code",
   "execution_count": null,
   "metadata": {},
   "outputs": [],
   "source": [
    "class Dog:\n",
    "    # מתודת __init__ היא 'קונסטרקטור'. היא רצה אוטומטית בעת יצירת אובייקט חדש.\n",
    "    # 'self' הוא הפניה לאובייקט הנוכחי עצמו.\n",
    "    def __init__(self, name, age):\n",
    "        self.name = name\n",
    "        self.age = age\n",
    "\n",
    "    # מתודה היא פונקציה שהוגדרה בתוך מחלקה.\n",
    "    def bark(self):\n",
    "        print(f\"{self.name} says Woof!\")"
   ]
  },
  {
   "cell_type": "markdown",
   "metadata": {},
   "source": [
    "---",
    "\n",
    "### יצירת אובייקטים (מופעים) מהמחלקה\n",
    "\n",
    "כדי ליצור אובייקט, פשוט קוראים למחלקה כמו פונקציה ומעבירים את הארגומנטים הנדרשים על ידי `__init__`."
   ]
  },
  {
   "cell_type": "code",
   "execution_count": null,
   "metadata": {},
   "outputs": [],
   "source": [
    "# יצירת שני אובייקטים מסוג Dog\n",
    "dog1 = Dog(\"Buddy\", 5)\n",
    "dog2 = Dog(\"Lucy\", 2)\n",
    "\n",
    "print(f\"הכלב הראשון הוא {dog1.name}, בן {dog1.age}.\")\n",
    "print(f\"הכלבה השנייה היא {dog2.name}, בת {dog2.age}.\")\n",
    "\n",
    "# קריאה למתודה של האובייקט\n",
    "dog1.bark()"
   ]
  },
  {
   "cell_type": "markdown",
   "metadata": {},
   "source": [
    "---",
    "\n",
    "## 2. עקרונות ה-OOP המרכזיים\n",
    "\n",
    "### א. ירושה (Inheritance)\n",
    "\n",
    "ירושה מאפשרת למחלקה חדשה (מחלקה 'בסיסית' או 'בת') לרשת תכונות ומתודות ממחלקה קיימת (מחלקה 'אב'). זה מקדם שימוש חוזר בקוד."
   ]
  },
  {
   "cell_type": "code",
   "execution_count": null,
   "metadata": {},
   "outputs": [],
   "source": [
    "# יצירת מחלקה בסיסית בשם 'Animal'\n",
    "class Animal:\n",
    "    def __init__(self, name):\n",
    "        self.name = name\n",
    "\n",
    "    def speak(self):\n",
    "        raise NotImplementedError(\"Subclass must implement abstract method\")\n",
    "\n",
    "# יצירת מחלקה 'בת' בשם 'Cat' שיורשת מ-'Animal'\n",
    "class Cat(Animal):\n",
    "    def speak(self):\n",
    "        return f\"{self.name} says Meow!\"\n",
    "\n",
    "# יצירת מחלקה 'בת' נוספת בשם 'Dog' שיורשת מ-'Animal'\n",
    "class Dog(Animal):\n",
    "    def speak(self):\n",
    "        return f\"{self.name} says Woof!\"\n",
    "\n",
    "kitty = Cat(\"Kitty\")\n",
    "puppy = Dog(\"Puppy\")\n",
    "\n",
    "print(kitty.speak())\n",
    "print(puppy.speak())"
   ]
  },
  {
   "cell_type": "markdown",
   "metadata": {},
   "source": [
    "---",
    "\n",
    "### ב. אנקפסולציה (Encapsulation)\n",
    "\n",
    "אנקפסולציה היא התהליך של עטיפת נתונים (תכונות) והשיטות הפועלות עליהם ליחידה אחת (מחלקה). היא מונעת גישה ישירה לנתונים ומגדירה ממשק ציבורי כדי לגשת אליהם ולשנות אותם. בפייתון, אנו משתמשים במוסכמות של שמות כדי להבחין בין תכונות ציבוריות, מוגנות ופרטיות.\n",
    "\n",
    "* `name`: **ציבורי** – ניתן לגשת אליו מכל מקום.\n",
    "* `_name`: **מוגן** – מוסכמה המציינת שאין לגשת ישירות מחוץ למחלקה או מחלקות יורשות.\n",
    "* `__name`: **פרטי** – פייתון משנה את השם כדי למנוע גישה ישירה מחוץ למחלקה (`Name Mangling`)."
   ]
  },
  {
   "cell_type": "code",
   "execution_count": null,
   "metadata": {},
   "outputs": [],
   "source": [
    "class Student:\n",
    "    def __init__(self, name, id):\n",
    "        self.name = name     # ציבורי\n",
    "        self._id = id        # מוגן - מוסכמה בלבד\n",
    "        self.__grade = 'A'   # פרטי - שינוי שם"
   ]
  },
  {
   "cell_type": "markdown",
   "metadata": {},
   "source": [
    "---",
    "\n",
    "### ג. פולימורפיזם (Polymorphism)\n",
    "\n",
    "פולימורפיזם (ריבוי צורות) מאפשר לאובייקטים שונים להגיב באופן שונה לאותה מתודה. הדוגמה הטובה ביותר היא ירושה, שבה לכל מחלקה בת יש גרסה משלה למתודה של המחלקה האב.\n",
    "\n",
    "`Animal`  נחזור לדוגמה של ."
   ]
  },
  {
   "cell_type": "code",
   "execution_count": null,
   "metadata": {},
   "outputs": [],
   "source": [
    "animals = [Cat(\"Kitty\"), Dog(\"Puppy\")]\n",
    "\n",
    "for animal in animals:\n",
    "    # למרות שכל האובייקטים הם מסוג שונה, הם מגיבים באופן שונה לאותה מתודה.\n",
    "    print(animal.speak())"
   ]
  },
  {
   "cell_type": "markdown",
   "metadata": {},
   "source": [
    "---",
    "\n",
    "## 3. סיכום\n",
    "\n",
    "| מונח | תיאור | דוגמה בקוד |\n",
    "|:---|:---|:---|\n",
    "| **מחלקה** | תבנית ליצירת אובייקטים | `class MyClass:` |\n",
    "| **אובייקט** | מופע של מחלקה | `my_object = MyClass()` |\n",
    "| **מתודה** | פונקציה בתוך מחלקה | `def my_method(self):` |\n",
    "| **תכונה** | משתנה בתוך מחלקה | `self.my_attribute = 'value'` |\n",
    "| **`__init__`** | 'קונסטרקטור' שמאתחל אובייקטים חדשים | `def __init__(self, arg):` |\n",
    "| **`self`** | הפניה לאובייקט הנוכחי | `self.name` |\n",
    "| **ירושה** | מחלקה יורשת תכונות ומתודות ממחלקה אחרת | `class Child(Parent):` |\n",
    "| **פולימורפיזם** | אובייקטים שונים מגיבים באופן שונה לאותה מתודה | `animal.speak()` |\n",
    "| **אנקפסולציה** | איגוד נתונים ומתודות יחד, מנגנון שמגביל גישה | `self.__private_var` |\n",
    "\n",
    "---",
    "\n",
    "בכך נסיים את ההסבר הבסיסי על תכנות מונחה עצמים. עקרונות אלו מהווים את הבסיס לכתיבת קוד מודולרי, ניתן להרחבה וקל לתחזוקה."
   ]
  }
 ],
 "metadata": {
  "kernelspec": {
   "display_name": "Python 3",
   "language": "python",
   "name": "python3"
  },
  "language_info": {
   "codemirror_mode": {
    "name": "ipython",
    "version": 3
   },
   "file_extension": ".py",
   "mimetype": "text/x-python",
   "name": "python",
   "nbconvert_exporter": "python",
   "pygments_lexer": "ipython3",
   "version": "3.11.4"
  }
 },
 "nbformat": 4,
 "nbformat_minor": 4
}