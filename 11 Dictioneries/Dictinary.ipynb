{
 "cells": [
  {
   "cell_type": "markdown",
   "metadata": {},
   "source": [
    "# מילונים בפייתון (Dictionaries)\n",
    "\n",
    "מילון הוא מבנה נתונים בפייתון שמאפשר לאחסן זוגות של מפתח (key) וערך (value). בניגוד לרשימות, שבהן הגישה לאיברים היא לפי אינדקס מספרי (0, 1, 2 וכו'), במילון הגישה לאיברים היא באמצעות המפתח שלהם."
   ]
  },
  {
   "cell_type": "markdown",
   "metadata": {},
   "source": [
    "## 1. יצירת מילון\n",
    "\n",
    "ניתן ליצור מילון באמצעות סוגריים מסולסלים (`{}`). כל זוג של מפתח-ערך מופרד בפסיק, והמפתח והערך מופרדים באמצעות נקודתיים (`:`)."
   ]
  },
  {
   "cell_type": "code",
   "execution_count": null,
   "metadata": {},
   "outputs": [],
   "source": [
    "# יצירת מילון בסיסי\n",
    "student = {\n",
    "    \"name\": \"Alice\",\n",
    "    \"age\": 25,\n",
    "    \"major\": \"Computer Science\"\n",
    "}\n",
    "\n",
    "print(student)\n",
    "print(type(student))"
   ]
  },
  {
   "cell_type": "markdown",
   "metadata": {},
   "source": [
    "## 2. גישה לערכים\n",
    "\n",
    "כדי לגשת לערך ספציפי, יש להשתמש במפתח שלו בתוך סוגריים מרובעים (`[]`)."
   ]
  },
  {
   "cell_type": "code",
   "execution_count": null,
   "metadata": {},
   "outputs": [],
   "source": [
    "# גישה לערכים במילון\n",
    "print(f\"השם של הסטודנט הוא: {student['name']}\")\n",
    "print(f\"הגיל של הסטודנט הוא: {student['age']}\")"
   ]
  },
  {
   "cell_type": "markdown",
   "metadata": {},
   "source": [
    "## 3. עדכון והוספת ערכים\n",
    "\n",
    "### עדכון ערך קיים\n",
    "כדי לעדכן ערך, יש לגשת אליו באמצעות המפתח שלו ולהקצות לו ערך חדש."
   ]
  },
  {
   "cell_type": "code",
   "execution_count": null,
   "metadata": {},
   "outputs": [],
   "source": [
    "# עדכון גיל הסטודנט\n",
    "student['age'] = 26\n",
    "\n",
    "print(student)"
   ]
  },
  {
   "cell_type": "markdown",
   "metadata": {},
   "source": [
    "### הוספת זוג חדש של מפתח-ערך\n",
    "כדי להוסיף זוג חדש, יש להשתמש במפתח שעדיין לא קיים ולהקצות לו ערך."
   ]
  },
  {
   "cell_type": "code",
   "execution_count": null,
   "metadata": {},
   "outputs": [],
   "source": [
    "# הוספת מפתח-ערך חדש\n",
    "student['gpa'] = 3.8\n",
    "\n",
    "print(student)"
   ]
  },
  {
   "cell_type": "markdown",
   "metadata": {},
   "source": [
    "## 4. מחיקת ערכים\n",
    "\n",
    "ניתן למחוק זוג מפתח-ערך באמצעות הפקודה `del`."
   ]
  },
  {
   "cell_type": "code",
   "execution_count": null,
   "metadata": {},
   "outputs": [],
   "source": [
    "# מחיקת המפתח 'major'\n",
    "del student['major']\n",
    "\n",
    "print(student)"
   ]
  },
  {
   "cell_type": "markdown",
   "metadata": {},
   "source": [
    "## 5. לולאה על מילון\n",
    "\n",
    "אפשר לעבור על המילון בכמה דרכים שונות.\n",
    "\n",
    "### לולאה על המפתחות (ברירת מחדל)"
   ]
  },
  {
   "cell_type": "code",
   "execution_count": null,
   "metadata": {},
   "outputs": [],
   "source": [
    "# לולאה על המפתחות\n",
    "for key in student:\n",
    "    print(key)\n",
    "\n",
    "# דרך נוספת, מפורשת יותר\n",
    "for key in student.keys():\n",
    "    print(key)"
   ]
  },
  {
   "cell_type": "markdown",
   "metadata": {},
   "source": [
    "### לולאה על הערכים"
   ]
  },
  {
   "cell_type": "code",
   "execution_count": null,
   "metadata": {},
   "outputs": [],
   "source": [
    "# לולאה על הערכים\n",
    "for value in student.values():\n",
    "    print(value)"
   ]
  },
  {
   "cell_type": "markdown",
   "metadata": {},
   "source": [
    "### לולאה על זוגות המפתח-ערך\n",
    "השיטה הנפוצה והמומלצת ביותר היא שימוש בפונקציה `items()` שמאפשרת גישה לשני המרכיבים בו זמנית."
   ]
  },
  {
   "cell_type": "code",
   "execution_count": null,
   "metadata": {},
   "outputs": [],
   "source": [
    "# לולאה על המפתח והערך יחד\n",
    "for key, value in student.items():\n",
    "    print(f\"המפתח הוא {key} והערך הוא {value}\")"
   ]
  },
  {
   "cell_type": "markdown",
   "metadata": {},
   "source": [
    "## 6. שיטות נוספות שימושיות\n",
    "\n",
    "| שיטה | תיאור | דוגמה |\n",
    "|:---|:---|:---|\n",
    "| `get(key)` | מחזירה את הערך עבור מפתח נתון, או `None` אם המפתח לא קיים (בניגוד לגישה עם `[]` שגורמת לשגיאה). | `student.get('age')` |\n",
    "| `keys()` | מחזירה אובייקט של כל המפתחות במילון. | `student.keys()` |\n",
    "| `values()` | מחזירה אובייקט של כל הערכים במילון. | `student.values()` |\n",
    "| `items()` | מחזירה אובייקט של כל זוגות המפתח-ערך במילון. | `student.items()` |\n",
    "\n",
    "נסה את השיטות בעצמך:"
   ]
  },
  {
   "cell_type": "code",
   "execution_count": null,
   "metadata": {},
   "outputs": [],
   "source": [
    "# דוגמה לשימוש בשיטת get\n",
    "print(student.get('age'))\n",
    "print(student.get('address', 'Not found'))"
   ]
  },
  {
   "cell_type": "markdown",
   "metadata": {},
   "source": [
    "---",
    "\n",
    "בזאת סיימנו את ההסבר הבסיסי על מילונים. כעת אתה יכול להתחיל להשתמש בהם בפרויקטים שלך!"
   ]
  }
 ],
 "metadata": {
  "kernelspec": {
   "display_name": "Python 3",
   "language": "python",
   "name": "python3"
  },
  "language_info": {
   "codemirror_mode": {
    "name": "ipython",
    "version": 3
   },
   "file_extension": ".py",
   "mimetype": "text/x-python",
   "name": "python",
   "nbconvert_exporter": "python",
   "pygments_lexer": "ipython3",
   "version": "3.11.4"
  }
 },
 "nbformat": 4,
 "nbformat_minor": 4
}