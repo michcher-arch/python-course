{
  "nbformat": 4,
  "nbformat_minor": 0,
  "metadata": {
    "colab": {
      "provenance": []
    },
    "kernelspec": {
      "name": "python3",
      "display_name": "Python 3"
    },
    "language_info": {
      "name": "python"
    }
  },
  "cells": [
    {
      "cell_type": "code",
      "execution_count": null,
      "metadata": {
        "id": "ztgvebIVusvh"
      },
      "outputs": [],
      "source": [
        "#Q1\n",
        "\n",
        "import threading\n",
        "\n",
        "def func1():\n",
        "  name = threading.current_thread().name\n",
        "  for i in range(2, 100, 2):\n",
        "    print(i, name)\n",
        "\n",
        "def func2():\n",
        "  name = threading.current_thread().name\n",
        "  for i in range(1, 100, 1):\n",
        "    print(i, name)\n",
        "\n",
        "import threading\n",
        "\n",
        "evenNumbersThread = threading.Thread(target=func1, name = 'even')\n",
        "oddNumbersThread = threading.Thread(target=func2, name = 'odd')\n",
        "\n",
        "evenNumbersThread.start()\n",
        "oddNumbersThread.start()\n",
        "\n",
        "evenNumbersThread.join()\n",
        "oddNumbersThread.join()\n",
        "\n",
        "print(\"Finish!\")"
      ]
    },
    {
      "cell_type": "code",
      "source": [
        "#Q2\n",
        "\n",
        "import threading\n",
        "import math\n",
        "\n",
        "numbers = []\n",
        "\n",
        "def isPrime(num):\n",
        "  sqrtNum = math.isqrt(num)  # Use isqrt to get integer square root\n",
        "  if num == 1 or num == 2:\n",
        "      return True\n",
        "\n",
        "  for i in range(2, sqrtNum + 1):\n",
        "      if num % i == 0:\n",
        "          return False\n",
        "\n",
        "  return True\n",
        "\n",
        "def prime(min, max):\n",
        "    for i in range(min, max):\n",
        "        if isPrime(i):\n",
        "           numbers.append(i)\n",
        "\n",
        "threads = []\n",
        "n = int(input(\"enter a number: \"))\n",
        "count  = 1\n",
        "for i in range(1, n + 1, 1000):\n",
        "  thread = threading.Thread(target=prime, args=(count, count + 1000))\n",
        "  threads.append(thread)\n",
        "  thread.start()\n",
        "  count+=1000\n",
        "\n",
        "for thread in threads:\n",
        "  thread.join()\n",
        "\n",
        "for number in numbers:\n",
        "  print(number)\n",
        "\n"
      ],
      "metadata": {
        "id": "GKZLX5Z6wPMb"
      },
      "execution_count": null,
      "outputs": []
    },
    {
      "cell_type": "code",
      "source": [
        "#Q3\n",
        "\n",
        "import time\n",
        "import random\n",
        "def simulate_runner(index):\n",
        "    while True:\n",
        "      distances[index] += 10\n",
        "      time.sleep(random.randint(1, 5))\n",
        "\n",
        "N = 30\n",
        "distances = [0 for i in range(N)]\n",
        "\n",
        "threads = []\n",
        "\n",
        "for i in range(N):\n",
        "  threads.append(threading.Thread(target=simulate_runner, name = i, args=(i,)))\n",
        "  threads[i].start()\n",
        "\n",
        "time.sleep(20)\n",
        "\n",
        "distances_copy = distances.copy()\n",
        "\n",
        "print(f\"Speedy for 20 seconds: {max(distances_copy)} Index: {distances_copy.index(max(distances_copy))}\")"
      ],
      "metadata": {
        "colab": {
          "base_uri": "https://localhost:8080/"
        },
        "id": "_chxvV8BwfOL",
        "outputId": "b536e982-ac7b-4f7e-8fb3-d68131a10198"
      },
      "execution_count": 9,
      "outputs": [
        {
          "output_type": "stream",
          "name": "stdout",
          "text": [
            "Speedy for 20 seconds: 90 Index: 10\n"
          ]
        }
      ]
    }
  ]
}