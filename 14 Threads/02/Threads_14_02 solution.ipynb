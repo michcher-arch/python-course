{
  "nbformat": 4,
  "nbformat_minor": 0,
  "metadata": {
    "colab": {
      "provenance": []
    },
    "kernelspec": {
      "name": "python3",
      "display_name": "Python 3"
    },
    "language_info": {
      "name": "python"
    }
  },
  "cells": [
    {
      "cell_type": "markdown",
      "source": [
        "## Question 1"
      ],
      "metadata": {
        "id": "Lbwx0WHvU97y"
      }
    },
    {
      "cell_type": "markdown",
      "source": [
        "The problem: Race condition!\n",
        "2 threads shared resource counter, and counter += 1 is not an atomic operation - we must lock it"
      ],
      "metadata": {
        "id": "tOJ5RWnVUYOe"
      }
    },
    {
      "cell_type": "code",
      "execution_count": null,
      "metadata": {
        "colab": {
          "base_uri": "https://localhost:8080/"
        },
        "id": "n-WMuzdVRhFH",
        "outputId": "0370a18d-2096-4995-a989-dc32d7294eba"
      },
      "outputs": [
        {
          "output_type": "stream",
          "name": "stdout",
          "text": [
            "Final counter value: 0\n"
          ]
        }
      ],
      "source": [
        "import threading\n",
        "\n",
        "counter = 0\n",
        "\n",
        "lock = threading.Lock() # protect the counter! lock only one resource!\n",
        "\n",
        "def increment():\n",
        "  global counter\n",
        "  for _ in range(1_000_000):\n",
        "    with lock:          # fiest example using with block\n",
        "      counter += 1\n",
        "\n",
        "def decrement():\n",
        "  global counter\n",
        "  for _ in range(1_000_000):\n",
        "    lock.acquire()      # second example with using acquire and release methods\n",
        "    counter -= 1\n",
        "    lock.release()\n",
        "\n",
        "thread1 = threading.Thread(target=increment)\n",
        "thread2 = threading.Thread(target=decrement)\n",
        "thread1.start()\n",
        "thread2.start()\n",
        "\n",
        "\n",
        "thread1.join()\n",
        "thread2.join()\n",
        "\n",
        "print(\"Final counter value:\", counter)\n",
        "\n",
        "# Another option: using Counter object from collections"
      ]
    },
    {
      "cell_type": "markdown",
      "source": [
        "## Question 2"
      ],
      "metadata": {
        "id": "pYPyC5-qU9it"
      }
    },
    {
      "cell_type": "code",
      "source": [
        "import threading\n",
        "\n",
        "class Bank:\n",
        "\n",
        "  def __init__(self, balance):\n",
        "    self._balance = balance\n",
        "    self._lock = threading.Lock()\n",
        "\n",
        "  def get_balance(self):\n",
        "    return self._balance\n",
        "\n",
        "  def set_balance(self, balance):\n",
        "    self._balance = balance\n",
        "\n",
        "  balance = property(get_balance, set_balance)\n",
        "\n",
        "  def withdraw(self, withdraw):\n",
        "    with self._lock:\n",
        "      if (self._balance >= withdraw):\n",
        "        self._balance -= withdraw\n",
        "        return True\n",
        "    return False\n",
        "\n",
        "  def deposit(self, deposit):\n",
        "    with self._lock:\n",
        "      self._balance += deposit"
      ],
      "metadata": {
        "id": "kKP1SrHpUX3d"
      },
      "execution_count": 2,
      "outputs": []
    },
    {
      "cell_type": "code",
      "source": [
        "import random\n",
        "import time\n",
        "\n",
        "account = Bank(20_000)\n",
        "\n",
        "def do_deposit(account):\n",
        "  for _ in range(100):\n",
        "    account.deposit(random.randint(1, 200_000))\n",
        "\n",
        "def do_withdraw(account):\n",
        "  for _ in range(100):\n",
        "    if(not account.withdraw(random.randint(1, 200_000))):\n",
        "      time.sleep(0.5)\n",
        "\n",
        "thread1 = threading.Thread(target=do_deposit, args=(account, ))\n",
        "thread2 = threading.Thread(target=do_withdraw, args=(account, ))\n",
        "\n",
        "thread1.start()\n",
        "thread2.start()\n",
        "\n",
        "thread1.join()\n",
        "thread2.join()\n",
        "\n",
        "print(\"Balance: \", account.balance)"
      ],
      "metadata": {
        "colab": {
          "base_uri": "https://localhost:8080/"
        },
        "id": "J2UH7RjrXo2X",
        "outputId": "25080b58-eaa6-45ce-bac9-54fbb3d7bfe4"
      },
      "execution_count": 3,
      "outputs": [
        {
          "output_type": "stream",
          "name": "stdout",
          "text": [
            "Balance:  1150205\n"
          ]
        }
      ]
    },
    {
      "cell_type": "markdown",
      "source": [
        "## Question 3"
      ],
      "metadata": {
        "id": "IcklwZcpcMUy"
      }
    },
    {
      "cell_type": "code",
      "source": [
        "import random\n",
        "import time\n",
        "from threading import Thread\n",
        "from queue import Queue\n",
        "\n",
        "BUFFER_SIZE = 20"
      ],
      "metadata": {
        "id": "qnQMlQ8ecNtI"
      },
      "execution_count": 1,
      "outputs": []
    },
    {
      "cell_type": "code",
      "source": [
        "# BUFFER - QUEUE\n",
        "\n",
        "queue = Queue(maxsize=BUFFER_SIZE)\n",
        "\n",
        "def producer():\n",
        "  global queue\n",
        "  counter = 0\n",
        "  while True:\n",
        "    item = tuple([random.randint(1, 10) for _ in range (5)])\n",
        "    queue.put(item) # If queue is full thread waits\n",
        "    counter += 1\n",
        "    if (counter % 5 == 0):\n",
        "      time.sleep(0.5)\n",
        "\n",
        "def consumer():\n",
        "  global queue\n",
        "  dict1 = {}\n",
        "  counter = 0\n",
        "  while True:\n",
        "    item = queue.get() # if queue is empty thread waits\n",
        "    for n in item:\n",
        "      if n in dict1.keys():\n",
        "        dict1[n] += 1\n",
        "      else:\n",
        "        dict1[n] = 0\n",
        "      counter += 1\n",
        "      if (counter % 100 == 0):\n",
        "        print(dict1.items())\n",
        "    time.sleep(1) # simulate some work\n",
        "\n",
        "\n",
        "producer_thread = Thread(target=producer)\n",
        "consumer_thread = Thread(target=consumer)\n",
        "producer_thread.start()\n",
        "consumer_thread.start()\n",
        "producer_thread.join() # Only for colab\n",
        "consumer_thread.join() # Only for colab"
      ],
      "metadata": {
        "colab": {
          "base_uri": "https://localhost:8080/",
          "height": 426
        },
        "id": "fNea2fGyqlq9",
        "outputId": "5fe92a3b-3371-40ea-eb6b-9529dea4268d"
      },
      "execution_count": 2,
      "outputs": [
        {
          "output_type": "stream",
          "name": "stdout",
          "text": [
            "dict_items([(5, 4), (9, 14), (8, 11), (3, 10), (10, 10), (1, 11), (6, 14), (4, 5), (7, 4), (2, 7)])\n",
            "dict_items([(5, 15), (9, 23), (8, 23), (3, 21), (10, 18), (1, 19), (6, 26), (4, 14), (7, 12), (2, 19)])\n",
            "dict_items([(5, 25), (9, 37), (8, 30), (3, 27), (10, 25), (1, 40), (6, 36), (4, 21), (7, 20), (2, 29)])\n"
          ]
        },
        {
          "output_type": "error",
          "ename": "KeyboardInterrupt",
          "evalue": "ignored",
          "traceback": [
            "\u001b[0;31m---------------------------------------------------------------------------\u001b[0m",
            "\u001b[0;31mKeyboardInterrupt\u001b[0m                         Traceback (most recent call last)",
            "\u001b[0;32m<ipython-input-2-ca5177b55bff>\u001b[0m in \u001b[0;36m<cell line: 36>\u001b[0;34m()\u001b[0m\n\u001b[1;32m     34\u001b[0m \u001b[0mproducer_thread\u001b[0m\u001b[0;34m.\u001b[0m\u001b[0mstart\u001b[0m\u001b[0;34m(\u001b[0m\u001b[0;34m)\u001b[0m\u001b[0;34m\u001b[0m\u001b[0;34m\u001b[0m\u001b[0m\n\u001b[1;32m     35\u001b[0m \u001b[0mconsumer_thread\u001b[0m\u001b[0;34m.\u001b[0m\u001b[0mstart\u001b[0m\u001b[0;34m(\u001b[0m\u001b[0;34m)\u001b[0m\u001b[0;34m\u001b[0m\u001b[0;34m\u001b[0m\u001b[0m\n\u001b[0;32m---> 36\u001b[0;31m \u001b[0mproducer_thread\u001b[0m\u001b[0;34m.\u001b[0m\u001b[0mjoin\u001b[0m\u001b[0;34m(\u001b[0m\u001b[0;34m)\u001b[0m \u001b[0;31m# Only for colab\u001b[0m\u001b[0;34m\u001b[0m\u001b[0;34m\u001b[0m\u001b[0m\n\u001b[0m\u001b[1;32m     37\u001b[0m \u001b[0mconsumer_thread\u001b[0m\u001b[0;34m.\u001b[0m\u001b[0mjoin\u001b[0m\u001b[0;34m(\u001b[0m\u001b[0;34m)\u001b[0m \u001b[0;31m# Only for colab\u001b[0m\u001b[0;34m\u001b[0m\u001b[0;34m\u001b[0m\u001b[0m\n",
            "\u001b[0;32m/usr/lib/python3.10/threading.py\u001b[0m in \u001b[0;36mjoin\u001b[0;34m(self, timeout)\u001b[0m\n\u001b[1;32m   1094\u001b[0m \u001b[0;34m\u001b[0m\u001b[0m\n\u001b[1;32m   1095\u001b[0m         \u001b[0;32mif\u001b[0m \u001b[0mtimeout\u001b[0m \u001b[0;32mis\u001b[0m \u001b[0;32mNone\u001b[0m\u001b[0;34m:\u001b[0m\u001b[0;34m\u001b[0m\u001b[0;34m\u001b[0m\u001b[0m\n\u001b[0;32m-> 1096\u001b[0;31m             \u001b[0mself\u001b[0m\u001b[0;34m.\u001b[0m\u001b[0m_wait_for_tstate_lock\u001b[0m\u001b[0;34m(\u001b[0m\u001b[0;34m)\u001b[0m\u001b[0;34m\u001b[0m\u001b[0;34m\u001b[0m\u001b[0m\n\u001b[0m\u001b[1;32m   1097\u001b[0m         \u001b[0;32melse\u001b[0m\u001b[0;34m:\u001b[0m\u001b[0;34m\u001b[0m\u001b[0;34m\u001b[0m\u001b[0m\n\u001b[1;32m   1098\u001b[0m             \u001b[0;31m# the behavior of a negative timeout isn't documented, but\u001b[0m\u001b[0;34m\u001b[0m\u001b[0;34m\u001b[0m\u001b[0m\n",
            "\u001b[0;32m/usr/lib/python3.10/threading.py\u001b[0m in \u001b[0;36m_wait_for_tstate_lock\u001b[0;34m(self, block, timeout)\u001b[0m\n\u001b[1;32m   1114\u001b[0m \u001b[0;34m\u001b[0m\u001b[0m\n\u001b[1;32m   1115\u001b[0m         \u001b[0;32mtry\u001b[0m\u001b[0;34m:\u001b[0m\u001b[0;34m\u001b[0m\u001b[0;34m\u001b[0m\u001b[0m\n\u001b[0;32m-> 1116\u001b[0;31m             \u001b[0;32mif\u001b[0m \u001b[0mlock\u001b[0m\u001b[0;34m.\u001b[0m\u001b[0macquire\u001b[0m\u001b[0;34m(\u001b[0m\u001b[0mblock\u001b[0m\u001b[0;34m,\u001b[0m \u001b[0mtimeout\u001b[0m\u001b[0;34m)\u001b[0m\u001b[0;34m:\u001b[0m\u001b[0;34m\u001b[0m\u001b[0;34m\u001b[0m\u001b[0m\n\u001b[0m\u001b[1;32m   1117\u001b[0m                 \u001b[0mlock\u001b[0m\u001b[0;34m.\u001b[0m\u001b[0mrelease\u001b[0m\u001b[0;34m(\u001b[0m\u001b[0;34m)\u001b[0m\u001b[0;34m\u001b[0m\u001b[0;34m\u001b[0m\u001b[0m\n\u001b[1;32m   1118\u001b[0m                 \u001b[0mself\u001b[0m\u001b[0;34m.\u001b[0m\u001b[0m_stop\u001b[0m\u001b[0;34m(\u001b[0m\u001b[0;34m)\u001b[0m\u001b[0;34m\u001b[0m\u001b[0;34m\u001b[0m\u001b[0m\n",
            "\u001b[0;31mKeyboardInterrupt\u001b[0m: "
          ]
        }
      ]
    },
    {
      "cell_type": "code",
      "source": [
        "# BUFFER - LIST\n",
        "buffer_list = []\n",
        "\n",
        "def producer():\n",
        "  global buffer_list\n",
        "  counter = 0\n",
        "  while True:\n",
        "    item = tuple([random.randint(1, 100) for _ in range (5)])\n",
        "    if len(buffer_list) < BUFFER_SIZE:\n",
        "      buffer_list.append(item)\n",
        "      counter += 1\n",
        "    else:\n",
        "      print(\"Buffer is full. producer is waiting...\")\n",
        "\n",
        "    if (counter % 5 == 0):\n",
        "      time.sleep(0.5)\n",
        "\n",
        "\n",
        "def consumer():\n",
        "  global buffer_list\n",
        "  dict1 = {}\n",
        "  while True:\n",
        "    if len(buffer_list) > 0:\n",
        "      item = buffer_list.pop(0)\n",
        "      for i in item:\n",
        "        if i in dict1.keys():\n",
        "          dict1[i] += 1\n",
        "        else:\n",
        "          dict1[i] = 0\n",
        "        counter += 1\n",
        "        if (counter % 100 == 0):\n",
        "          print(dict1.items())\n",
        "        time.sleep(1)\n",
        "\n",
        "    else:\n",
        "      # if queue is empty thread waits\n",
        "      print(\"Buffer is empty. Consumer is waiting...\")\n",
        "\n",
        "producer_thread = Thread(target=producer)\n",
        "consumer_thread = Thread(target=consumer)\n",
        "producer_thread.start()\n",
        "consumer_thread.start()\n",
        "producer_thread.join() # Only for colab\n",
        "consumer_thread.join() # Only for colab"
      ],
      "metadata": {
        "colab": {
          "base_uri": "https://localhost:8080/"
        },
        "id": "sOx_v0DxWzIj",
        "outputId": "267a77cd-0115-4f5f-e1d9-de04a37c8bfa"
      },
      "execution_count": null,
      "outputs": [
        {
          "output_type": "stream",
          "name": "stdout",
          "text": [
            "producing (42, 35, 10, 67, 93)\n",
            "consuming (42, 35, 10, 67, 93)\n"
          ]
        }
      ]
    },
    {
      "cell_type": "code",
      "source": [
        "# 3 producers with queue\n",
        "\n",
        "# BUFFER - QUEUE\n",
        "\n",
        "BUFFER_SIZE = 60\n",
        "queue = Queue(maxsize=BUFFER_SIZE)\n",
        "\n",
        "def producer():\n",
        "  global queue\n",
        "  counter = 0\n",
        "  while True:\n",
        "    item = tuple([random.randint(1, 10) for _ in range (5)])\n",
        "    queue.put(item) # If queue is full thread waits\n",
        "    counter += 1\n",
        "    if (counter % 5 == 0):\n",
        "      time.sleep(0.5)\n",
        "\n",
        "def consumer():\n",
        "  global queue\n",
        "  dict1 = {}\n",
        "  counter = 0\n",
        "  while True:\n",
        "    item = queue.get() # if queue is empty thread waits\n",
        "    for i in item:\n",
        "      if i in dict1.keys():\n",
        "        dict1[i] += 1\n",
        "      else:\n",
        "        dict1[i] = 0\n",
        "      counter += 1\n",
        "      if (counter % 100 == 0):\n",
        "        print(dict1.items())\n",
        "    time.sleep(1) # simulate some work\n",
        "producers = []\n",
        "for i in range(3):\n",
        "  producers.append(Thread(target=producer))\n",
        "  producers[i].start()\n",
        "\n",
        "consumer_thread = Thread(target=consumer)\n",
        "consumer_thread.start()\n",
        "\n",
        "for i in range(3):\n",
        "  producers[i].join()\n",
        "\n",
        "consumer_thread.join() # Only for colab\n",
        "\n"
      ],
      "metadata": {
        "colab": {
          "base_uri": "https://localhost:8080/",
          "height": 444
        },
        "id": "DvhfBZRqYjJH",
        "outputId": "225d7aba-3a32-4964-c239-1619d275dd02"
      },
      "execution_count": 3,
      "outputs": [
        {
          "output_type": "stream",
          "name": "stdout",
          "text": [
            "dict_items([(5, 284), (9, 286), (8, 284), (3, 308), (10, 306), (1, 313), (6, 331), (4, 287), (7, 284), (2, 307)])\n",
            "dict_items([(4, 17), (7, 9), (1, 12), (3, 5), (10, 9), (2, 8), (9, 6), (6, 12), (8, 6), (5, 6)])\n",
            "dict_items([(5, 293), (9, 293), (8, 299), (3, 321), (10, 314), (1, 327), (6, 338), (4, 295), (7, 293), (2, 317)])\n"
          ]
        },
        {
          "output_type": "error",
          "ename": "KeyboardInterrupt",
          "evalue": "ignored",
          "traceback": [
            "\u001b[0;31m---------------------------------------------------------------------------\u001b[0m",
            "\u001b[0;31mKeyboardInterrupt\u001b[0m                         Traceback (most recent call last)",
            "\u001b[0;32m<ipython-input-3-9e2a566a1510>\u001b[0m in \u001b[0;36m<cell line: 41>\u001b[0;34m()\u001b[0m\n\u001b[1;32m     40\u001b[0m \u001b[0;34m\u001b[0m\u001b[0m\n\u001b[1;32m     41\u001b[0m \u001b[0;32mfor\u001b[0m \u001b[0mi\u001b[0m \u001b[0;32min\u001b[0m \u001b[0mrange\u001b[0m\u001b[0;34m(\u001b[0m\u001b[0;36m3\u001b[0m\u001b[0;34m)\u001b[0m\u001b[0;34m:\u001b[0m\u001b[0;34m\u001b[0m\u001b[0;34m\u001b[0m\u001b[0m\n\u001b[0;32m---> 42\u001b[0;31m   \u001b[0mproducers\u001b[0m\u001b[0;34m[\u001b[0m\u001b[0mi\u001b[0m\u001b[0;34m]\u001b[0m\u001b[0;34m.\u001b[0m\u001b[0mjoin\u001b[0m\u001b[0;34m(\u001b[0m\u001b[0;34m)\u001b[0m\u001b[0;34m\u001b[0m\u001b[0;34m\u001b[0m\u001b[0m\n\u001b[0m\u001b[1;32m     43\u001b[0m \u001b[0;34m\u001b[0m\u001b[0m\n\u001b[1;32m     44\u001b[0m \u001b[0mconsumer_thread\u001b[0m\u001b[0;34m.\u001b[0m\u001b[0mjoin\u001b[0m\u001b[0;34m(\u001b[0m\u001b[0;34m)\u001b[0m \u001b[0;31m# Only for colab\u001b[0m\u001b[0;34m\u001b[0m\u001b[0;34m\u001b[0m\u001b[0m\n",
            "\u001b[0;32m/usr/lib/python3.10/threading.py\u001b[0m in \u001b[0;36mjoin\u001b[0;34m(self, timeout)\u001b[0m\n\u001b[1;32m   1094\u001b[0m \u001b[0;34m\u001b[0m\u001b[0m\n\u001b[1;32m   1095\u001b[0m         \u001b[0;32mif\u001b[0m \u001b[0mtimeout\u001b[0m \u001b[0;32mis\u001b[0m \u001b[0;32mNone\u001b[0m\u001b[0;34m:\u001b[0m\u001b[0;34m\u001b[0m\u001b[0;34m\u001b[0m\u001b[0m\n\u001b[0;32m-> 1096\u001b[0;31m             \u001b[0mself\u001b[0m\u001b[0;34m.\u001b[0m\u001b[0m_wait_for_tstate_lock\u001b[0m\u001b[0;34m(\u001b[0m\u001b[0;34m)\u001b[0m\u001b[0;34m\u001b[0m\u001b[0;34m\u001b[0m\u001b[0m\n\u001b[0m\u001b[1;32m   1097\u001b[0m         \u001b[0;32melse\u001b[0m\u001b[0;34m:\u001b[0m\u001b[0;34m\u001b[0m\u001b[0;34m\u001b[0m\u001b[0m\n\u001b[1;32m   1098\u001b[0m             \u001b[0;31m# the behavior of a negative timeout isn't documented, but\u001b[0m\u001b[0;34m\u001b[0m\u001b[0;34m\u001b[0m\u001b[0m\n",
            "\u001b[0;32m/usr/lib/python3.10/threading.py\u001b[0m in \u001b[0;36m_wait_for_tstate_lock\u001b[0;34m(self, block, timeout)\u001b[0m\n\u001b[1;32m   1114\u001b[0m \u001b[0;34m\u001b[0m\u001b[0m\n\u001b[1;32m   1115\u001b[0m         \u001b[0;32mtry\u001b[0m\u001b[0;34m:\u001b[0m\u001b[0;34m\u001b[0m\u001b[0;34m\u001b[0m\u001b[0m\n\u001b[0;32m-> 1116\u001b[0;31m             \u001b[0;32mif\u001b[0m \u001b[0mlock\u001b[0m\u001b[0;34m.\u001b[0m\u001b[0macquire\u001b[0m\u001b[0;34m(\u001b[0m\u001b[0mblock\u001b[0m\u001b[0;34m,\u001b[0m \u001b[0mtimeout\u001b[0m\u001b[0;34m)\u001b[0m\u001b[0;34m:\u001b[0m\u001b[0;34m\u001b[0m\u001b[0;34m\u001b[0m\u001b[0m\n\u001b[0m\u001b[1;32m   1117\u001b[0m                 \u001b[0mlock\u001b[0m\u001b[0;34m.\u001b[0m\u001b[0mrelease\u001b[0m\u001b[0;34m(\u001b[0m\u001b[0;34m)\u001b[0m\u001b[0;34m\u001b[0m\u001b[0;34m\u001b[0m\u001b[0m\n\u001b[1;32m   1118\u001b[0m                 \u001b[0mself\u001b[0m\u001b[0;34m.\u001b[0m\u001b[0m_stop\u001b[0m\u001b[0;34m(\u001b[0m\u001b[0;34m)\u001b[0m\u001b[0;34m\u001b[0m\u001b[0;34m\u001b[0m\u001b[0m\n",
            "\u001b[0;31mKeyboardInterrupt\u001b[0m: "
          ]
        }
      ]
    }
  ]
}