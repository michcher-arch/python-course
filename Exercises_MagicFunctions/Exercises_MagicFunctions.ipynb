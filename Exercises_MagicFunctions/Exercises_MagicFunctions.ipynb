{
 "cells": [
  {
   "cell_type": "markdown",
   "metadata": {},
   "source": [
    "# תרגילים - List Comprehensions, Lambda, Map & Filter\n",
    "# Practice Exercises - Functional Programming in Python\n",
    "\n",
    "קובץ תרגילים מעשיים לתרגול הרעיונות:\n",
    "- **List Comprehensions** - רשימות מובנות\n",
    "- **Lambda Functions** - פונקציות אנונימיות  \n",
    "- **Map Function** - פונקציית Map\n",
    "- **Filter Function** - פונקציית Filter\n",
    "\n",
    "**הוראות:**\n",
    "1. קרא כל תרגיל בעיון\n",
    "2. נסה לפתור לפני שאתה מסתכל על הפתרון\n",
    "3. השווה את הפתרון שלך לפתרונות המוצעים\n",
    "4. רוץ את הקוד כדי לוודא שהוא עובד"
   ]
  },
  {
   "cell_type": "markdown",
   "metadata": {},
   "source": [
    "## חלק א': תרגילי List Comprehensions\n",
    "## Part A: List Comprehension Exercises"
   ]
  },
  {
   "cell_type": "markdown",
   "metadata": {},
   "source": [
    "### תרגיל 1: מספרים זוגיים\n",
    "### Exercise 1: Even Numbers\n",
    "צור רשימה של כל המספרים הזוגיים בין 1 ל-50 שמתחלקים גם ב-3\n",
    "\n",
    "Create a list of all even numbers between 1 and 50 that are also divisible by 3"
   ]
  },
  {
   "cell_type": "code",
   "execution_count": null,
   "metadata": {},
   "outputs": [],
   "source": [
    "# Write code here:\n"
   ]
  },
  {
   "cell_type": "markdown",
   "metadata": {},
   "source": [
    "### תרגיל 2: עיבוד מחרוזות\n",
    "### Exercise 2: String Processing\n",
    "יש לך רשימת מילים. צור רשימה חדשה שמכילה רק את המילים שמתחילות באות גדולה ואורכן יותר מ-4 תווים, והפוך אותן לאותיות קטנות.\n",
    "\n",
    "You have a list of words. Create a new list containing only words that start with a capital letter and are longer than 4 characters, converted to lowercase."
   ]
  },
  {
   "cell_type": "code",
   "execution_count": null,
   "metadata": {},
   "outputs": [],
   "source": [
    "words = ['Hello', 'world', 'Python', 'is', 'Amazing', 'Code', 'fun', 'Programming', 'AI']\n",
    "\n",
    "# Write code here:\n"
   ]
  },
  {
   "cell_type": "markdown",
   "metadata": {},
   "source": [
    "### תרגיל 3: מטריצה מותנית\n",
    "### Exercise 3: Conditional Matrix\n",
    "צור מטריצה 5x5 כך שכל תא (i,j) מכיל:\n",
    "- את הסכום i+j אם הסכום זוגי\n",
    "- את המכפלה i*j אם הסכום אי-זוגי\n",
    "\n",
    "Create a 5x5 matrix where each cell (i,j) contains:\n",
    "- The sum i+j if the sum is even\n",
    "- The product i*j if the sum is odd"
   ]
  },
  {
   "cell_type": "code",
   "execution_count": null,
   "metadata": {},
   "outputs": [],
   "source": [
    "# Write code here:\n"
   ]
  },
  {
   "cell_type": "markdown",
   "metadata": {},
   "source": [
    "## חלק ב': תרגילי Lambda Functions\n",
    "## Part B: Lambda Function Exercises"
   ]
  },
  {
   "cell_type": "markdown",
   "metadata": {},
   "source": [
    "### תרגיל 4: מיון מורכב\n",
    "### Exercise 4: Complex Sorting\n",
    "יש לך רשימה של tuples עם (שם, גיל, ציון). מיין אותם לפי הקריטריונים הבאים:\n",
    "1. קודם לפי ציון (יורד)\n",
    "2. אם הציון שווה, לפי גיל (עולה)\n",
    "3. אם גם הגיל שווה, לפי שם (א-ב)\n",
    "\n",
    "You have a list of tuples with (name, age, grade). Sort them by:\n",
    "1. First by grade (descending)\n",
    "2. If grade is equal, by age (ascending)\n",
    "3. If age is also equal, by name (alphabetically)"
   ]
  },
  {
   "cell_type": "code",
   "execution_count": null,
   "metadata": {},
   "outputs": [],
   "source": [
    "students = [\n",
    "    ('Alice', 20, 85),\n",
    "    ('Bob', 22, 92),\n",
    "    ('Charlie', 21, 85),\n",
    "    ('Diana', 20, 85),\n",
    "    ('Eve', 19, 92),\n",
    "    ('Frank', 23, 78)\n",
    "]\n",
    "\n",
    "# Write code here:\n"
   ]
  },
  {
   "cell_type": "markdown",
   "metadata": {},
   "source": [
    "### תרגיל 5: פונקציות מתמטיות\n",
    "### Exercise 5: Mathematical Functions\n",
    "צור lambda functions עבור הפעולות הבאות:\n",
    "1. חישוב השטח של עיגול (πr²)\n",
    "2. בדיקה אם מספר הוא מספר ראשוני\n",
    "3. חישוב המרחק בין שתי נקודות (x₁,y₁) ו-(x₂,y₂)\n",
    "\n",
    "Create lambda functions for:\n",
    "1. Calculate circle area (πr²)\n",
    "2. Check if a number is prime\n",
    "3. Calculate distance between two points (x₁,y₁) and (x₂,y₂)"
   ]
  },
  {
   "cell_type": "code",
   "execution_count": null,
   "metadata": {},
   "outputs": [],
   "source": [
    "import math\n",
    "\n",
    "# Write code here:\n"   ]
  },
  {
   "cell_type": "markdown",
   "metadata": {},
   "source": [
    "## חלק ג': תרגילי Map Function\n",
    "## Part C: Map Function Exercises"
   ]
  },
  {
   "cell_type": "markdown",
   "metadata": {},
   "source": [
    "### תרגיל 6: המרת יחידות\n",
    "### Exercise 6: Unit Conversions\n",
    "יש לך רשימות של מדידות. השתמש ב-map כדי להמיר:\n",
    "1. טמפרטורות מצלזיוס לפרנהייט\n",
    "2. מרחקים מקילומטרים למיילים\n",
    "3. משקלות מקילוגרמים לפאונדים\n",
    "\n",
    "You have lists of measurements. Use map to convert:\n",
    "1. Temperatures from Celsius to Fahrenheit  \n",
    "2. Distances from kilometers to miles\n",
    "3. Weights from kilograms to pounds"
   ]
  },
  {
   "cell_type": "code",
   "execution_count": null,
   "metadata": {},
   "outputs": [],
   "source": [
    "celsius_temps = [0, 10, 20, 25, 30, 37, 100]\n",
    "kilometers = [1, 5, 10, 42.195, 100]\n",
    "kilograms = [50, 70, 80, 90, 100]\n",
    "\n",
    "# Write code here:\n"
   ]
  },
  {
   "cell_type": "markdown",
   "metadata": {},
   "source": [
    "### תרגיל 7: עיבוד רשימות מרובות\n",
    "### Exercise 7: Multiple List Processing\n",
    "יש לך 3 רשימות: שמות, גילאים וציונים. השתמש ב-map כדי:\n",
    "1. ליצור רשימה של מחרוזות בפורמט \"Name (Age): Grade\"\n",
    "2. לחשב ציון סופי משוקלל (40% מבחן + 60% פרויקט)\n",
    "\n",
    "You have 3 lists: names, ages, grades. Use map to:\n",
    "1. Create a list of strings in format \"Name (Age): Grade\"\n",
    "2. Calculate weighted final grade (40% exam + 60% project)"
   ]
  },
  {
   "cell_type": "code",
   "execution_count": null,
   "metadata": {},
   "outputs": [],
   "source": [
    "names = ['Alice', 'Bob', 'Charlie', 'Diana']\n",
    "ages = [20, 22, 21, 19]\n",
    "exam_grades = [85, 90, 78, 92]\n",
    "project_grades = [88, 85, 82, 95]\n",
    "\n",
    "# Write code here:\n"   ]
  },
  {
   "cell_type": "markdown",
   "metadata": {},
   "source": [
    "## חלק ד': תרגילי Filter Function\n",
    "## Part D: Filter Function Exercises"
   ]
  },
  {
   "cell_type": "markdown",
   "metadata": {},
   "source": [
    "### תרגיל 8: סינון מתקדם\n",
    "### Exercise 8: Advanced Filtering\n",
    "יש לך רשימה של מילים. השתמש ב-filter כדי למצוא:\n",
    "1. מילים שמכילות רק תווים אלפביתיים\n",
    "2. מילים שמכילות לפחות שתי תנועות\n",
    "3. מילים שהן פלינדרום (נקראות אותו הדבר קדימה ואחורה)\n",
    "\n",
    "You have a list of words. Use filter to find:\n",
    "1. Words containing only alphabetic characters\n",
    "2. Words containing at least two vowels\n",
    "3. Words that are palindromes"
   ]
  },
  {
   "cell_type": "code",
   "execution_count": null,
   "metadata": {},
   "outputs": [],
   "source": [
    "words = ['hello', 'world123', 'python', 'code2', 'amazing', 'level', 'radar', 'ai', 'education', 'racecar', 'test']\n",
    "\n",
    "# Write code here:\n"
   ]
  },
  {
   "cell_type": "markdown",
   "metadata": {},
   "source": [
    "### תרגיל 9: סינון נתונים מורכב\n",
    "### Exercise 9: Complex Data Filtering\n",
    "יש לך רשימה של עובדים (dictionary עבור כל עובד). סנן עובדים לפי קריטריונים שונים:\n",
    "\n",
    "You have a list of employees (dictionary for each employee). Filter employees by different criteria:"
   ]
  },
  {
   "cell_type": "code",
   "execution_count": null,
   "metadata": {},
   "outputs": [],
   "source": [
    "# Write code here:\n"
   ]
  },
  {
   "cell_type": "markdown",
   "metadata": {},
   "source": [
    "## חלק ה': תרגיליים משולבים\n",
    "## Part E: Combined Exercises"
   ]
  },
  {
   "cell_type": "markdown",
   "metadata": {},
   "source": [
    "### תרגיל 10: עיבוד נתונים של מכירות\n",
    "### Exercise 10: Sales Data Processing\n",
    "יש לך נתונים על מכירות. השתמש בכל הכלים שלמדת כדי לנתח את הנתונים.\n",
    "\n",
    "You have sales data. Use all the tools you learned to analyze the data."
   ]
  },
  {
   "cell_type": "code",
   "execution_count": null,
   "metadata": {},
   "outputs": [],
   "source": [
    "sales_data = [\n",
    "    {'product': 'Laptop', 'price': 1200, 'quantity': 5, 'category': 'Electronics'},\n",
    "    {'product': 'Mouse', 'price': 25, 'quantity': 15, 'category': 'Electronics'},\n",
    "    {'product': 'Desk', 'price': 300, 'quantity': 3, 'category': 'Furniture'},\n",
    "    {'product': 'Chair', 'price': 150, 'quantity': 8, 'category': 'Furniture'},\n",
    "    {'product': 'Monitor', 'price': 400, 'quantity': 4, 'category': 'Electronics'},\n",
    "    {'product': 'Book', 'price': 20, 'quantity': 25, 'category': 'Education'},\n",
    "    {'product': 'Tablet', 'price': 500, 'quantity': 7, 'category': 'Electronics'}\n",
    "]\n",
    "\n",
    "# Write code here:\n"
   ]
  },
  {
   "cell_type": "markdown",
   "metadata": {},
   "source": [
    "### תרגיל 11: ניתוח טקסט\n",
    "### Exercise 11: Text Analysis\n",
    "נתח קטע טקסט באמצעות כל הכלים שלמדת.\n",
    "\n",
    "Analyze a text passage using all the tools you learned."
   ]
  },
  {
   "cell_type": "code",
   "execution_count": null,
   "metadata": {},
   "outputs": [],
   "source": [
    "text = \"\"\"Python is a powerful programming language. It is easy to learn and versatile.\n",
    "Many developers love Python because it is readable and efficient.\n",
    "Python can be used for web development, data science, and artificial intelligence.\n",
    "The Python community is large and supportive. Learning Python opens many opportunities.\"\"\"\n",
    "\n",
    "# Write code here:\n"
   ]
  },
  {
   "cell_type": "markdown",
   "metadata": {},
   "source": [
    "### תרגיל 12: אתגר סופי - מערכת ניהול ספרייה\n",
    "### Exercise 12: Final Challenge - Library Management System\n",
    "צור מערכת פשוטה לניהול ספרייה שמשתמשת בכל הכלים שלמדת.\n",
    "\n",
    "Create a simple library management system using all the tools you learned."
   ]
  },
  {
   "cell_type": "code",
   "execution_count": null,
   "metadata": {},
   "outputs": [],
   "source": [
    "# פתרון מלא:\n",
    "# Complete solution:\n",
    "books = [\n",
    "    {'title': 'Python Programming', 'author': 'John Smith', 'year': 2020, 'genre': 'Technology', 'rating': 4.5, 'available': True},\n",
    "    {'title': 'Data Science Handbook', 'author': 'Jane Doe', 'year': 2019, 'genre': 'Technology', 'rating': 4.2, 'available': False},\n",
    "    {'title': 'The Great Novel', 'author': 'Alice Brown', 'year': 2021, 'genre': 'Fiction', 'rating': 3.8, 'available': True},\n",
    "    {'title': 'History of AI', 'author': 'Bob Wilson', 'year': 2018, 'genre': 'Technology', 'rating': 4.0, 'available': True},\n",
    "    {'title': 'Mystery Story', 'author': 'Carol Davis', 'year': 2022, 'genre': 'Mystery', 'rating': 4.3, 'available': False},\n",
    "    {'title': 'Science Fiction Epic', 'author': 'David Miller', 'year': 2020, 'genre': 'Sci-Fi', 'rating': 4.7, 'available': True}\n",
    "]\n",
    "\n",
    "# Write code here:\n" 
   ]
  }
 ],
 "metadata": {
  "kernelspec": {
   "display_name": "Python 3",
   "language": "python",
   "name": "python3"
  },
  "language_info": {
   "codemirror_mode": {
    "name": "ipython",
    "version": 3
   },
   "file_extension": ".py",
   "mimetype": "text/x-python",
   "name": "python",
   "nbconvert_exporter": "python",
   "pygments_lexer": "ipython3",
   "version": "3.10.13"
  }
 },
 "nbformat": 4,
 "nbformat_minor": 4
}